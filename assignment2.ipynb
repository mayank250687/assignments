{
 "cells": [
  {
   "cell_type": "code",
   "execution_count": null,
   "metadata": {},
   "outputs": [],
   "source": [
    "def my_reduce (funct, lst):\n",
    "    x=0\n",
    "    y=0\n",
    "    z=1\n",
    "    for i in lst:\n",
    "        if len(lst) == 1:\n",
    "            return \"less item in list\"\n",
    "    \n",
    "        \n",
    "            \n",
    "        if len(lst) == 2:\n",
    "            x , y = i , lst[1]\n",
    "            x = funct (x,y)\n",
    "            break\n",
    "        elif z == 1:\n",
    "            x , y = i , lst[1]\n",
    "            \n",
    "            x = funct (x,y)\n",
    "            z += 1\n",
    "        elif z < len(lst):\n",
    "            y =  lst[z]\n",
    "            \n",
    "            x = funct (x,y)\n",
    "            z += 1\n",
    "        else:\n",
    "            break\n",
    "    return x\n",
    "    \n",
    "            \n",
    "                \n",
    "def sum(a,b):\n",
    "    return a+b\n",
    "def mul(a,b):\n",
    "    return a*b\n",
    "\n",
    "l=[1,2,3,4]\n",
    "\n",
    "print(my_reduce(sum,l))\n",
    "print(my_reduce(mul,l))\n",
    "print(my_reduce(lambda x,y : x/y, l))\n",
    "\n",
    "    "
   ]
  },
  {
   "cell_type": "code",
   "execution_count": null,
   "metadata": {},
   "outputs": [],
   "source": [
    "def my_filter(funct, lst):\n",
    "    lst1 = []\n",
    "    for i in lst:\n",
    "        if funct(i) == True:\n",
    "            lst1.append(i)\n",
    "        else:\n",
    "            continue\n",
    "    return (lst1)\n",
    "\n",
    "def is_even(a):\n",
    "    if a % 2 == 0:\n",
    "        return True\n",
    "def greater_than_five(a):\n",
    "    if a>5:\n",
    "        return True\n",
    "    \n",
    "    \n",
    "\n",
    "l=[2,3,4,5,7,6,8,9]\n",
    "\n",
    "print(list(my_filter(is_even, l)))\n",
    "print(list(my_filter(greater_than_five, l)))\n",
    "print(list(my_filter(lambda x: x < 5, l)))\n",
    "            \n",
    "    "
   ]
  },
  {
   "cell_type": "code",
   "execution_count": null,
   "metadata": {},
   "outputs": [],
   "source": [
    "str = \"ACADGILD\"\n",
    "lst = [i for i in str]\n",
    "print (lst)"
   ]
  },
  {
   "cell_type": "code",
   "execution_count": null,
   "metadata": {},
   "outputs": [],
   "source": [
    "lst = ['x','y','z']\n",
    "lst2 = [i*j for i in lst for j in range(1,5)]\n",
    "print(lst2)"
   ]
  },
  {
   "cell_type": "code",
   "execution_count": 28,
   "metadata": {},
   "outputs": [
    {
     "name": "stdout",
     "output_type": "stream",
     "text": [
      "['x', 'y', 'z', 'xx', 'yy', 'zz', 'xxx', 'yyy', 'zzz', 'xxxx', 'yyyy', 'zzzz']\n"
     ]
    }
   ],
   "source": [
    "lst = ['x','y','z']\n",
    "lst2 = [i*j for j in range(1,5) for i in lst ]\n",
    "print(lst2)"
   ]
  },
  {
   "cell_type": "code",
   "execution_count": 8,
   "metadata": {},
   "outputs": [
    {
     "name": "stdout",
     "output_type": "stream",
     "text": [
      "[[2], [3], [4], [3], [4], [5], [4], [5], [6]]\n"
     ]
    }
   ],
   "source": [
    "lst = [2,3,4]\n",
    "lst2 = [[i+j] for i in lst for j in range (0,3)]\n",
    "print(lst2)"
   ]
  },
  {
   "cell_type": "code",
   "execution_count": 15,
   "metadata": {},
   "outputs": [
    {
     "name": "stdout",
     "output_type": "stream",
     "text": [
      "[[2, 3, 4, 5], [3, 4, 5, 6], [4, 5, 6, 7], [5, 6, 7, 8]]\n"
     ]
    }
   ],
   "source": [
    "# [[2, 3, 4, 5], [3, 4, 5, 6], [4, 5, 6, 7], [5, 6, 7, 8]]\n",
    "lst = [2,3,4,5]\n",
    "lst2 = [ [i,i+1,i+2,i+3] for i in lst]\n",
    "print(lst2)"
   ]
  },
  {
   "cell_type": "code",
   "execution_count": 16,
   "metadata": {},
   "outputs": [
    {
     "name": "stdout",
     "output_type": "stream",
     "text": [
      "[(1, 1), (2, 1), (3, 1), (1, 2), (2, 2), (3, 2), (1, 3), (2, 3), (3, 3)]\n"
     ]
    }
   ],
   "source": [
    "# [(1, 1), (2, 1), (3, 1), (1, 2), (2, 2), (3, 2), (1, 3), (2, 3), (3, 3)]\n",
    "\n",
    "lst = [1,2,3]\n",
    "lst2 = [(j,i) for i in lst for j in range(1,4)]\n",
    "print(lst2)"
   ]
  },
  {
   "cell_type": "code",
   "execution_count": 25,
   "metadata": {},
   "outputs": [
    {
     "name": "stdout",
     "output_type": "stream",
     "text": [
      "no string found\n",
      "name\n",
      "function\n"
     ]
    }
   ],
   "source": [
    "def longest_word(l):\n",
    "    x=0\n",
    "    word = 'no string found'\n",
    "    for i in l:\n",
    "        if type(i) != str:\n",
    "            continue\n",
    "        else:\n",
    "            if len(i) > x:\n",
    "                x=len(i)\n",
    "                word = i\n",
    "    return word\n",
    "\n",
    "lst1 = [1,2]\n",
    "lst2 =['','my','name','is']\n",
    "lst3 =['','longest',2,'word',44,'','function',101]\n",
    "\n",
    "print(longest_word(lst1))\n",
    "print(longest_word(lst2))\n",
    "print(longest_word(lst3))\n",
    "        \n",
    "    "
   ]
  },
  {
   "cell_type": "code",
   "execution_count": 30,
   "metadata": {},
   "outputs": [
    {
     "name": "stdout",
     "output_type": "stream",
     "text": [
      "['xxx', 'yyy', 'zzz', 'xxxx', 'yyyy', 'zzzz']\n"
     ]
    }
   ],
   "source": [
    "def filter_long_words(lst,num):\n",
    "    lst2=[]\n",
    "    for i in lst:\n",
    "        if len(i)>num:\n",
    "            lst2.append(i)\n",
    "        else:\n",
    "            continue\n",
    "    return (lst2)\n",
    "\n",
    "l=['x', 'y', 'z', 'xx', 'yy', 'zz', 'xxx', 'yyy', 'zzz', 'xxxx', 'yyyy', 'zzzz']\n",
    "num=2\n",
    "\n",
    "print(filter_long_words(l,num))\n",
    "    "
   ]
  },
  {
   "cell_type": "code",
   "execution_count": 21,
   "metadata": {},
   "outputs": [
    {
     "name": "stdout",
     "output_type": "stream",
     "text": [
      "enter side2\n",
      "enter side3\n",
      "enter side5\n"
     ]
    },
    {
     "data": {
      "text/plain": [
       "52.91502622129181"
      ]
     },
     "execution_count": 21,
     "metadata": {},
     "output_type": "execute_result"
    }
   ],
   "source": [
    "class A:\n",
    "    \n",
    "    def sides(self):\n",
    "        self.a=int(input('enter side'))\n",
    "        self.b=int(input('enter side'))\n",
    "        self.c=int(input('enter side'))\n",
    "        \n",
    "class B(A):    \n",
    "    \n",
    "    def calc(self):\n",
    "        super().sides()\n",
    "        self.s=(self.a+self.b+self.c)\n",
    "        self.area = (self.s*(self.s-self.a)*(self.s-self.b)*(self.s-self.c)) ** 0.5\n",
    "        return self.area\n",
    "        \n",
    "\n",
    "\n",
    "t=B()\n",
    "t.calc()"
   ]
  },
  {
   "cell_type": "code",
   "execution_count": 28,
   "metadata": {},
   "outputs": [
    {
     "name": "stdout",
     "output_type": "stream",
     "text": [
      "[2, 3, 4, 7]\n"
     ]
    }
   ],
   "source": [
    "def len_word(lst):\n",
    "    lst2=[]\n",
    "    for i in lst:\n",
    "        if type(i) == str:\n",
    "            lst2.append(len(i))\n",
    "        else:\n",
    "            continue\n",
    "    print(lst2)\n",
    "\n",
    "lst1=['ab','cde','erty',5,'welcome']\n",
    "\n",
    "len_word(lst1)\n",
    "        "
   ]
  },
  {
   "cell_type": "code",
   "execution_count": 31,
   "metadata": {},
   "outputs": [
    {
     "name": "stdout",
     "output_type": "stream",
     "text": [
      "enter a charactera\n"
     ]
    },
    {
     "data": {
      "text/plain": [
       "False"
      ]
     },
     "execution_count": 31,
     "metadata": {},
     "output_type": "execute_result"
    }
   ],
   "source": [
    "def if_vowel(string):\n",
    "    if str == 'a' or str == 'e' or str == 'i' or str == 'o' or str == 'u' :\n",
    "        return True\n",
    "    else:\n",
    "        return False\n",
    "    \n",
    "var = str(input('enter a character'))\n",
    "if_vowel(var)"
   ]
  },
  {
   "cell_type": "code",
   "execution_count": null,
   "metadata": {},
   "outputs": [],
   "source": []
  }
 ],
 "metadata": {
  "kernelspec": {
   "display_name": "Python 3",
   "language": "python",
   "name": "python3"
  },
  "language_info": {
   "codemirror_mode": {
    "name": "ipython",
    "version": 3
   },
   "file_extension": ".py",
   "mimetype": "text/x-python",
   "name": "python",
   "nbconvert_exporter": "python",
   "pygments_lexer": "ipython3",
   "version": "3.7.4"
  }
 },
 "nbformat": 4,
 "nbformat_minor": 2
}
